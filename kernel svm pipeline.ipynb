{
 "cells": [
  {
   "cell_type": "code",
   "execution_count": 18,
   "id": "56d29806",
   "metadata": {},
   "outputs": [],
   "source": [
    "import pandas as pd\n",
    "import numpy as np\n",
    "import matplotlib.pyplot as plt\n",
    "from sklearn.pipeline import make_pipeline, Pipeline\n",
    "from sklearn.compose import make_column_transformer\n",
    "from sklearn.preprocessing import StandardScaler\n",
    "from sklearn.preprocessing import OneHotEncoder\n",
    "from sklearn.impute import SimpleImputer\n",
    "from sklearn.svm import SVC\n",
    "from sklearn import set_config\n",
    "set_config(display = 'diagram')"
   ]
  },
  {
   "cell_type": "code",
   "execution_count": 19,
   "id": "5a9bf8df",
   "metadata": {},
   "outputs": [
    {
     "data": {
      "text/html": [
       "<div>\n",
       "<style scoped>\n",
       "    .dataframe tbody tr th:only-of-type {\n",
       "        vertical-align: middle;\n",
       "    }\n",
       "\n",
       "    .dataframe tbody tr th {\n",
       "        vertical-align: top;\n",
       "    }\n",
       "\n",
       "    .dataframe thead th {\n",
       "        text-align: right;\n",
       "    }\n",
       "</style>\n",
       "<table border=\"1\" class=\"dataframe\">\n",
       "  <thead>\n",
       "    <tr style=\"text-align: right;\">\n",
       "      <th></th>\n",
       "      <th>User ID</th>\n",
       "      <th>Gender</th>\n",
       "      <th>Age</th>\n",
       "      <th>EstimatedSalary</th>\n",
       "      <th>Purchased</th>\n",
       "    </tr>\n",
       "  </thead>\n",
       "  <tbody>\n",
       "    <tr>\n",
       "      <th>0</th>\n",
       "      <td>15624510</td>\n",
       "      <td>Male</td>\n",
       "      <td>19</td>\n",
       "      <td>19000</td>\n",
       "      <td>0</td>\n",
       "    </tr>\n",
       "    <tr>\n",
       "      <th>1</th>\n",
       "      <td>15810944</td>\n",
       "      <td>Male</td>\n",
       "      <td>35</td>\n",
       "      <td>20000</td>\n",
       "      <td>0</td>\n",
       "    </tr>\n",
       "    <tr>\n",
       "      <th>2</th>\n",
       "      <td>15668575</td>\n",
       "      <td>Female</td>\n",
       "      <td>26</td>\n",
       "      <td>43000</td>\n",
       "      <td>0</td>\n",
       "    </tr>\n",
       "    <tr>\n",
       "      <th>3</th>\n",
       "      <td>15603246</td>\n",
       "      <td>Female</td>\n",
       "      <td>27</td>\n",
       "      <td>57000</td>\n",
       "      <td>0</td>\n",
       "    </tr>\n",
       "    <tr>\n",
       "      <th>4</th>\n",
       "      <td>15804002</td>\n",
       "      <td>Male</td>\n",
       "      <td>19</td>\n",
       "      <td>76000</td>\n",
       "      <td>0</td>\n",
       "    </tr>\n",
       "    <tr>\n",
       "      <th>...</th>\n",
       "      <td>...</td>\n",
       "      <td>...</td>\n",
       "      <td>...</td>\n",
       "      <td>...</td>\n",
       "      <td>...</td>\n",
       "    </tr>\n",
       "    <tr>\n",
       "      <th>395</th>\n",
       "      <td>15691863</td>\n",
       "      <td>Female</td>\n",
       "      <td>46</td>\n",
       "      <td>41000</td>\n",
       "      <td>1</td>\n",
       "    </tr>\n",
       "    <tr>\n",
       "      <th>396</th>\n",
       "      <td>15706071</td>\n",
       "      <td>Male</td>\n",
       "      <td>51</td>\n",
       "      <td>23000</td>\n",
       "      <td>1</td>\n",
       "    </tr>\n",
       "    <tr>\n",
       "      <th>397</th>\n",
       "      <td>15654296</td>\n",
       "      <td>Female</td>\n",
       "      <td>50</td>\n",
       "      <td>20000</td>\n",
       "      <td>1</td>\n",
       "    </tr>\n",
       "    <tr>\n",
       "      <th>398</th>\n",
       "      <td>15755018</td>\n",
       "      <td>Male</td>\n",
       "      <td>36</td>\n",
       "      <td>33000</td>\n",
       "      <td>0</td>\n",
       "    </tr>\n",
       "    <tr>\n",
       "      <th>399</th>\n",
       "      <td>15594041</td>\n",
       "      <td>Female</td>\n",
       "      <td>49</td>\n",
       "      <td>36000</td>\n",
       "      <td>1</td>\n",
       "    </tr>\n",
       "  </tbody>\n",
       "</table>\n",
       "<p>400 rows × 5 columns</p>\n",
       "</div>"
      ],
      "text/plain": [
       "      User ID  Gender  Age  EstimatedSalary  Purchased\n",
       "0    15624510    Male   19            19000          0\n",
       "1    15810944    Male   35            20000          0\n",
       "2    15668575  Female   26            43000          0\n",
       "3    15603246  Female   27            57000          0\n",
       "4    15804002    Male   19            76000          0\n",
       "..        ...     ...  ...              ...        ...\n",
       "395  15691863  Female   46            41000          1\n",
       "396  15706071    Male   51            23000          1\n",
       "397  15654296  Female   50            20000          1\n",
       "398  15755018    Male   36            33000          0\n",
       "399  15594041  Female   49            36000          1\n",
       "\n",
       "[400 rows x 5 columns]"
      ]
     },
     "execution_count": 19,
     "metadata": {},
     "output_type": "execute_result"
    }
   ],
   "source": [
    "df = pd.read_csv('Social_Network_Ads.csv')\n",
    "df"
   ]
  },
  {
   "cell_type": "code",
   "execution_count": 20,
   "id": "a30e63ed",
   "metadata": {},
   "outputs": [
    {
     "name": "stdout",
     "output_type": "stream",
     "text": [
      "<class 'pandas.core.frame.DataFrame'>\n",
      "RangeIndex: 400 entries, 0 to 399\n",
      "Data columns (total 5 columns):\n",
      " #   Column           Non-Null Count  Dtype \n",
      "---  ------           --------------  ----- \n",
      " 0   User ID          400 non-null    int64 \n",
      " 1   Gender           400 non-null    object\n",
      " 2   Age              400 non-null    int64 \n",
      " 3   EstimatedSalary  400 non-null    int64 \n",
      " 4   Purchased        400 non-null    int64 \n",
      "dtypes: int64(4), object(1)\n",
      "memory usage: 15.8+ KB\n"
     ]
    }
   ],
   "source": [
    "df.info()"
   ]
  },
  {
   "cell_type": "code",
   "execution_count": 21,
   "id": "7c130d49",
   "metadata": {},
   "outputs": [],
   "source": [
    "X = df.drop(columns= ['Purchased'])\n",
    "y = df['Purchased']"
   ]
  },
  {
   "cell_type": "code",
   "execution_count": 22,
   "id": "52978bc9",
   "metadata": {},
   "outputs": [],
   "source": [
    "from sklearn.model_selection import train_test_split \n",
    "X_train, X_test, y_train, y_test = train_test_split(X, y, test_size = 0.2, random_state = 0)"
   ]
  },
  {
   "cell_type": "code",
   "execution_count": 23,
   "id": "afd4583a",
   "metadata": {},
   "outputs": [],
   "source": [
    "numeric_feature = X_train.select_dtypes('number').columns\n",
    "categorical_features = X_train.select_dtypes('object').columns"
   ]
  },
  {
   "cell_type": "code",
   "execution_count": 24,
   "id": "4c7df5f1",
   "metadata": {},
   "outputs": [],
   "source": [
    "numeric_transformer = make_pipeline(SimpleImputer(strategy = 'median'), StandardScaler())\n",
    "categorical_transformer = make_pipeline(SimpleImputer(strategy = 'constant', fill_value = \"missing\"), OneHotEncoder())"
   ]
  },
  {
   "cell_type": "code",
   "execution_count": 25,
   "id": "b9ebceb8",
   "metadata": {},
   "outputs": [],
   "source": [
    "col_transformer = make_column_transformer(\n",
    "  (numeric_transformer, numeric_feature), \n",
    "    (categorical_transformer, categorical_features),\n",
    "remainder = 'passthrough')"
   ]
  },
  {
   "cell_type": "code",
   "execution_count": 26,
   "id": "0bc94eb7",
   "metadata": {},
   "outputs": [
    {
     "data": {
      "text/html": [
       "<style>#sk-db7b3dc1-f22a-476a-bbe1-22daee4ee6b4 {color: black;background-color: white;}#sk-db7b3dc1-f22a-476a-bbe1-22daee4ee6b4 pre{padding: 0;}#sk-db7b3dc1-f22a-476a-bbe1-22daee4ee6b4 div.sk-toggleable {background-color: white;}#sk-db7b3dc1-f22a-476a-bbe1-22daee4ee6b4 label.sk-toggleable__label {cursor: pointer;display: block;width: 100%;margin-bottom: 0;padding: 0.3em;box-sizing: border-box;text-align: center;}#sk-db7b3dc1-f22a-476a-bbe1-22daee4ee6b4 label.sk-toggleable__label-arrow:before {content: \"▸\";float: left;margin-right: 0.25em;color: #696969;}#sk-db7b3dc1-f22a-476a-bbe1-22daee4ee6b4 label.sk-toggleable__label-arrow:hover:before {color: black;}#sk-db7b3dc1-f22a-476a-bbe1-22daee4ee6b4 div.sk-estimator:hover label.sk-toggleable__label-arrow:before {color: black;}#sk-db7b3dc1-f22a-476a-bbe1-22daee4ee6b4 div.sk-toggleable__content {max-height: 0;max-width: 0;overflow: hidden;text-align: left;background-color: #f0f8ff;}#sk-db7b3dc1-f22a-476a-bbe1-22daee4ee6b4 div.sk-toggleable__content pre {margin: 0.2em;color: black;border-radius: 0.25em;background-color: #f0f8ff;}#sk-db7b3dc1-f22a-476a-bbe1-22daee4ee6b4 input.sk-toggleable__control:checked~div.sk-toggleable__content {max-height: 200px;max-width: 100%;overflow: auto;}#sk-db7b3dc1-f22a-476a-bbe1-22daee4ee6b4 input.sk-toggleable__control:checked~label.sk-toggleable__label-arrow:before {content: \"▾\";}#sk-db7b3dc1-f22a-476a-bbe1-22daee4ee6b4 div.sk-estimator input.sk-toggleable__control:checked~label.sk-toggleable__label {background-color: #d4ebff;}#sk-db7b3dc1-f22a-476a-bbe1-22daee4ee6b4 div.sk-label input.sk-toggleable__control:checked~label.sk-toggleable__label {background-color: #d4ebff;}#sk-db7b3dc1-f22a-476a-bbe1-22daee4ee6b4 input.sk-hidden--visually {border: 0;clip: rect(1px 1px 1px 1px);clip: rect(1px, 1px, 1px, 1px);height: 1px;margin: -1px;overflow: hidden;padding: 0;position: absolute;width: 1px;}#sk-db7b3dc1-f22a-476a-bbe1-22daee4ee6b4 div.sk-estimator {font-family: monospace;background-color: #f0f8ff;border: 1px dotted black;border-radius: 0.25em;box-sizing: border-box;margin-bottom: 0.5em;}#sk-db7b3dc1-f22a-476a-bbe1-22daee4ee6b4 div.sk-estimator:hover {background-color: #d4ebff;}#sk-db7b3dc1-f22a-476a-bbe1-22daee4ee6b4 div.sk-parallel-item::after {content: \"\";width: 100%;border-bottom: 1px solid gray;flex-grow: 1;}#sk-db7b3dc1-f22a-476a-bbe1-22daee4ee6b4 div.sk-label:hover label.sk-toggleable__label {background-color: #d4ebff;}#sk-db7b3dc1-f22a-476a-bbe1-22daee4ee6b4 div.sk-serial::before {content: \"\";position: absolute;border-left: 1px solid gray;box-sizing: border-box;top: 2em;bottom: 0;left: 50%;}#sk-db7b3dc1-f22a-476a-bbe1-22daee4ee6b4 div.sk-serial {display: flex;flex-direction: column;align-items: center;background-color: white;padding-right: 0.2em;padding-left: 0.2em;}#sk-db7b3dc1-f22a-476a-bbe1-22daee4ee6b4 div.sk-item {z-index: 1;}#sk-db7b3dc1-f22a-476a-bbe1-22daee4ee6b4 div.sk-parallel {display: flex;align-items: stretch;justify-content: center;background-color: white;}#sk-db7b3dc1-f22a-476a-bbe1-22daee4ee6b4 div.sk-parallel::before {content: \"\";position: absolute;border-left: 1px solid gray;box-sizing: border-box;top: 2em;bottom: 0;left: 50%;}#sk-db7b3dc1-f22a-476a-bbe1-22daee4ee6b4 div.sk-parallel-item {display: flex;flex-direction: column;position: relative;background-color: white;}#sk-db7b3dc1-f22a-476a-bbe1-22daee4ee6b4 div.sk-parallel-item:first-child::after {align-self: flex-end;width: 50%;}#sk-db7b3dc1-f22a-476a-bbe1-22daee4ee6b4 div.sk-parallel-item:last-child::after {align-self: flex-start;width: 50%;}#sk-db7b3dc1-f22a-476a-bbe1-22daee4ee6b4 div.sk-parallel-item:only-child::after {width: 0;}#sk-db7b3dc1-f22a-476a-bbe1-22daee4ee6b4 div.sk-dashed-wrapped {border: 1px dashed gray;margin: 0 0.4em 0.5em 0.4em;box-sizing: border-box;padding-bottom: 0.4em;background-color: white;position: relative;}#sk-db7b3dc1-f22a-476a-bbe1-22daee4ee6b4 div.sk-label label {font-family: monospace;font-weight: bold;background-color: white;display: inline-block;line-height: 1.2em;}#sk-db7b3dc1-f22a-476a-bbe1-22daee4ee6b4 div.sk-label-container {position: relative;z-index: 2;text-align: center;}#sk-db7b3dc1-f22a-476a-bbe1-22daee4ee6b4 div.sk-container {/* jupyter's `normalize.less` sets `[hidden] { display: none; }` but bootstrap.min.css set `[hidden] { display: none !important; }` so we also need the `!important` here to be able to override the default hidden behavior on the sphinx rendered scikit-learn.org. See: https://github.com/scikit-learn/scikit-learn/issues/21755 */display: inline-block !important;position: relative;}#sk-db7b3dc1-f22a-476a-bbe1-22daee4ee6b4 div.sk-text-repr-fallback {display: none;}</style><div id=\"sk-db7b3dc1-f22a-476a-bbe1-22daee4ee6b4\" class=\"sk-top-container\"><div class=\"sk-text-repr-fallback\"><pre>ColumnTransformer(remainder=&#x27;passthrough&#x27;,\n",
       "                  transformers=[(&#x27;pipeline-1&#x27;,\n",
       "                                 Pipeline(steps=[(&#x27;simpleimputer&#x27;,\n",
       "                                                  SimpleImputer(strategy=&#x27;median&#x27;)),\n",
       "                                                 (&#x27;standardscaler&#x27;,\n",
       "                                                  StandardScaler())]),\n",
       "                                 Index([&#x27;User ID&#x27;, &#x27;Age&#x27;, &#x27;EstimatedSalary&#x27;], dtype=&#x27;object&#x27;)),\n",
       "                                (&#x27;pipeline-2&#x27;,\n",
       "                                 Pipeline(steps=[(&#x27;simpleimputer&#x27;,\n",
       "                                                  SimpleImputer(fill_value=&#x27;missing&#x27;,\n",
       "                                                                strategy=&#x27;constant&#x27;)),\n",
       "                                                 (&#x27;onehotencoder&#x27;,\n",
       "                                                  OneHotEncoder())]),\n",
       "                                 Index([&#x27;Gender&#x27;], dtype=&#x27;object&#x27;))])</pre><b>Please rerun this cell to show the HTML repr or trust the notebook.</b></div><div class=\"sk-container\" hidden><div class=\"sk-item sk-dashed-wrapped\"><div class=\"sk-label-container\"><div class=\"sk-label sk-toggleable\"><input class=\"sk-toggleable__control sk-hidden--visually\" id=\"bc20b4fe-1a39-46b5-99bd-5f672dff3341\" type=\"checkbox\" ><label for=\"bc20b4fe-1a39-46b5-99bd-5f672dff3341\" class=\"sk-toggleable__label sk-toggleable__label-arrow\">ColumnTransformer</label><div class=\"sk-toggleable__content\"><pre>ColumnTransformer(remainder=&#x27;passthrough&#x27;,\n",
       "                  transformers=[(&#x27;pipeline-1&#x27;,\n",
       "                                 Pipeline(steps=[(&#x27;simpleimputer&#x27;,\n",
       "                                                  SimpleImputer(strategy=&#x27;median&#x27;)),\n",
       "                                                 (&#x27;standardscaler&#x27;,\n",
       "                                                  StandardScaler())]),\n",
       "                                 Index([&#x27;User ID&#x27;, &#x27;Age&#x27;, &#x27;EstimatedSalary&#x27;], dtype=&#x27;object&#x27;)),\n",
       "                                (&#x27;pipeline-2&#x27;,\n",
       "                                 Pipeline(steps=[(&#x27;simpleimputer&#x27;,\n",
       "                                                  SimpleImputer(fill_value=&#x27;missing&#x27;,\n",
       "                                                                strategy=&#x27;constant&#x27;)),\n",
       "                                                 (&#x27;onehotencoder&#x27;,\n",
       "                                                  OneHotEncoder())]),\n",
       "                                 Index([&#x27;Gender&#x27;], dtype=&#x27;object&#x27;))])</pre></div></div></div><div class=\"sk-parallel\"><div class=\"sk-parallel-item\"><div class=\"sk-item\"><div class=\"sk-label-container\"><div class=\"sk-label sk-toggleable\"><input class=\"sk-toggleable__control sk-hidden--visually\" id=\"1a16c336-c572-4ed5-844c-9b194e3d4780\" type=\"checkbox\" ><label for=\"1a16c336-c572-4ed5-844c-9b194e3d4780\" class=\"sk-toggleable__label sk-toggleable__label-arrow\">pipeline-1</label><div class=\"sk-toggleable__content\"><pre>Index([&#x27;User ID&#x27;, &#x27;Age&#x27;, &#x27;EstimatedSalary&#x27;], dtype=&#x27;object&#x27;)</pre></div></div></div><div class=\"sk-serial\"><div class=\"sk-item\"><div class=\"sk-serial\"><div class=\"sk-item\"><div class=\"sk-estimator sk-toggleable\"><input class=\"sk-toggleable__control sk-hidden--visually\" id=\"6aad58e4-9d24-4db9-829d-a0d949a0f5a7\" type=\"checkbox\" ><label for=\"6aad58e4-9d24-4db9-829d-a0d949a0f5a7\" class=\"sk-toggleable__label sk-toggleable__label-arrow\">SimpleImputer</label><div class=\"sk-toggleable__content\"><pre>SimpleImputer(strategy=&#x27;median&#x27;)</pre></div></div></div><div class=\"sk-item\"><div class=\"sk-estimator sk-toggleable\"><input class=\"sk-toggleable__control sk-hidden--visually\" id=\"3326b326-b7b2-49ee-b45e-021b23662087\" type=\"checkbox\" ><label for=\"3326b326-b7b2-49ee-b45e-021b23662087\" class=\"sk-toggleable__label sk-toggleable__label-arrow\">StandardScaler</label><div class=\"sk-toggleable__content\"><pre>StandardScaler()</pre></div></div></div></div></div></div></div></div><div class=\"sk-parallel-item\"><div class=\"sk-item\"><div class=\"sk-label-container\"><div class=\"sk-label sk-toggleable\"><input class=\"sk-toggleable__control sk-hidden--visually\" id=\"eba48418-b9fb-4f3a-9296-d6c9e9ea0d86\" type=\"checkbox\" ><label for=\"eba48418-b9fb-4f3a-9296-d6c9e9ea0d86\" class=\"sk-toggleable__label sk-toggleable__label-arrow\">pipeline-2</label><div class=\"sk-toggleable__content\"><pre>Index([&#x27;Gender&#x27;], dtype=&#x27;object&#x27;)</pre></div></div></div><div class=\"sk-serial\"><div class=\"sk-item\"><div class=\"sk-serial\"><div class=\"sk-item\"><div class=\"sk-estimator sk-toggleable\"><input class=\"sk-toggleable__control sk-hidden--visually\" id=\"12fa9c2c-9e0d-4f3f-98fd-1064ca296a9c\" type=\"checkbox\" ><label for=\"12fa9c2c-9e0d-4f3f-98fd-1064ca296a9c\" class=\"sk-toggleable__label sk-toggleable__label-arrow\">SimpleImputer</label><div class=\"sk-toggleable__content\"><pre>SimpleImputer(fill_value=&#x27;missing&#x27;, strategy=&#x27;constant&#x27;)</pre></div></div></div><div class=\"sk-item\"><div class=\"sk-estimator sk-toggleable\"><input class=\"sk-toggleable__control sk-hidden--visually\" id=\"60abce29-8010-4def-b817-a098471c3e57\" type=\"checkbox\" ><label for=\"60abce29-8010-4def-b817-a098471c3e57\" class=\"sk-toggleable__label sk-toggleable__label-arrow\">OneHotEncoder</label><div class=\"sk-toggleable__content\"><pre>OneHotEncoder()</pre></div></div></div></div></div></div></div></div><div class=\"sk-parallel-item\"><div class=\"sk-item\"><div class=\"sk-label-container\"><div class=\"sk-label sk-toggleable\"><input class=\"sk-toggleable__control sk-hidden--visually\" id=\"72efd0e7-d518-4a54-ada7-cf4cb088a623\" type=\"checkbox\" ><label for=\"72efd0e7-d518-4a54-ada7-cf4cb088a623\" class=\"sk-toggleable__label sk-toggleable__label-arrow\">remainder</label><div class=\"sk-toggleable__content\"><pre>[]</pre></div></div></div><div class=\"sk-serial\"><div class=\"sk-item\"><div class=\"sk-estimator sk-toggleable\"><input class=\"sk-toggleable__control sk-hidden--visually\" id=\"a8774521-a16b-4a50-b340-1c024a083284\" type=\"checkbox\" ><label for=\"a8774521-a16b-4a50-b340-1c024a083284\" class=\"sk-toggleable__label sk-toggleable__label-arrow\">passthrough</label><div class=\"sk-toggleable__content\"><pre>passthrough</pre></div></div></div></div></div></div></div></div></div></div>"
      ],
      "text/plain": [
       "ColumnTransformer(remainder='passthrough',\n",
       "                  transformers=[('pipeline-1',\n",
       "                                 Pipeline(steps=[('simpleimputer',\n",
       "                                                  SimpleImputer(strategy='median')),\n",
       "                                                 ('standardscaler',\n",
       "                                                  StandardScaler())]),\n",
       "                                 Index(['User ID', 'Age', 'EstimatedSalary'], dtype='object')),\n",
       "                                ('pipeline-2',\n",
       "                                 Pipeline(steps=[('simpleimputer',\n",
       "                                                  SimpleImputer(fill_value='missing',\n",
       "                                                                strategy='constant')),\n",
       "                                                 ('onehotencoder',\n",
       "                                                  OneHotEncoder())]),\n",
       "                                 Index(['Gender'], dtype='object'))])"
      ]
     },
     "execution_count": 26,
     "metadata": {},
     "output_type": "execute_result"
    }
   ],
   "source": [
    "col_transformer.fit(X_train)"
   ]
  },
  {
   "cell_type": "code",
   "execution_count": 27,
   "id": "d8eb489f",
   "metadata": {},
   "outputs": [],
   "source": [
    "pipe = make_pipeline(col_transformer, SVC(kernel = 'rbf', random_state = 0))"
   ]
  },
  {
   "cell_type": "code",
   "execution_count": 28,
   "id": "73945322",
   "metadata": {},
   "outputs": [
    {
     "data": {
      "text/html": [
       "<style>#sk-1b92ad04-7e9d-44d5-9ebb-e4b178cd6304 {color: black;background-color: white;}#sk-1b92ad04-7e9d-44d5-9ebb-e4b178cd6304 pre{padding: 0;}#sk-1b92ad04-7e9d-44d5-9ebb-e4b178cd6304 div.sk-toggleable {background-color: white;}#sk-1b92ad04-7e9d-44d5-9ebb-e4b178cd6304 label.sk-toggleable__label {cursor: pointer;display: block;width: 100%;margin-bottom: 0;padding: 0.3em;box-sizing: border-box;text-align: center;}#sk-1b92ad04-7e9d-44d5-9ebb-e4b178cd6304 label.sk-toggleable__label-arrow:before {content: \"▸\";float: left;margin-right: 0.25em;color: #696969;}#sk-1b92ad04-7e9d-44d5-9ebb-e4b178cd6304 label.sk-toggleable__label-arrow:hover:before {color: black;}#sk-1b92ad04-7e9d-44d5-9ebb-e4b178cd6304 div.sk-estimator:hover label.sk-toggleable__label-arrow:before {color: black;}#sk-1b92ad04-7e9d-44d5-9ebb-e4b178cd6304 div.sk-toggleable__content {max-height: 0;max-width: 0;overflow: hidden;text-align: left;background-color: #f0f8ff;}#sk-1b92ad04-7e9d-44d5-9ebb-e4b178cd6304 div.sk-toggleable__content pre {margin: 0.2em;color: black;border-radius: 0.25em;background-color: #f0f8ff;}#sk-1b92ad04-7e9d-44d5-9ebb-e4b178cd6304 input.sk-toggleable__control:checked~div.sk-toggleable__content {max-height: 200px;max-width: 100%;overflow: auto;}#sk-1b92ad04-7e9d-44d5-9ebb-e4b178cd6304 input.sk-toggleable__control:checked~label.sk-toggleable__label-arrow:before {content: \"▾\";}#sk-1b92ad04-7e9d-44d5-9ebb-e4b178cd6304 div.sk-estimator input.sk-toggleable__control:checked~label.sk-toggleable__label {background-color: #d4ebff;}#sk-1b92ad04-7e9d-44d5-9ebb-e4b178cd6304 div.sk-label input.sk-toggleable__control:checked~label.sk-toggleable__label {background-color: #d4ebff;}#sk-1b92ad04-7e9d-44d5-9ebb-e4b178cd6304 input.sk-hidden--visually {border: 0;clip: rect(1px 1px 1px 1px);clip: rect(1px, 1px, 1px, 1px);height: 1px;margin: -1px;overflow: hidden;padding: 0;position: absolute;width: 1px;}#sk-1b92ad04-7e9d-44d5-9ebb-e4b178cd6304 div.sk-estimator {font-family: monospace;background-color: #f0f8ff;border: 1px dotted black;border-radius: 0.25em;box-sizing: border-box;margin-bottom: 0.5em;}#sk-1b92ad04-7e9d-44d5-9ebb-e4b178cd6304 div.sk-estimator:hover {background-color: #d4ebff;}#sk-1b92ad04-7e9d-44d5-9ebb-e4b178cd6304 div.sk-parallel-item::after {content: \"\";width: 100%;border-bottom: 1px solid gray;flex-grow: 1;}#sk-1b92ad04-7e9d-44d5-9ebb-e4b178cd6304 div.sk-label:hover label.sk-toggleable__label {background-color: #d4ebff;}#sk-1b92ad04-7e9d-44d5-9ebb-e4b178cd6304 div.sk-serial::before {content: \"\";position: absolute;border-left: 1px solid gray;box-sizing: border-box;top: 2em;bottom: 0;left: 50%;}#sk-1b92ad04-7e9d-44d5-9ebb-e4b178cd6304 div.sk-serial {display: flex;flex-direction: column;align-items: center;background-color: white;padding-right: 0.2em;padding-left: 0.2em;}#sk-1b92ad04-7e9d-44d5-9ebb-e4b178cd6304 div.sk-item {z-index: 1;}#sk-1b92ad04-7e9d-44d5-9ebb-e4b178cd6304 div.sk-parallel {display: flex;align-items: stretch;justify-content: center;background-color: white;}#sk-1b92ad04-7e9d-44d5-9ebb-e4b178cd6304 div.sk-parallel::before {content: \"\";position: absolute;border-left: 1px solid gray;box-sizing: border-box;top: 2em;bottom: 0;left: 50%;}#sk-1b92ad04-7e9d-44d5-9ebb-e4b178cd6304 div.sk-parallel-item {display: flex;flex-direction: column;position: relative;background-color: white;}#sk-1b92ad04-7e9d-44d5-9ebb-e4b178cd6304 div.sk-parallel-item:first-child::after {align-self: flex-end;width: 50%;}#sk-1b92ad04-7e9d-44d5-9ebb-e4b178cd6304 div.sk-parallel-item:last-child::after {align-self: flex-start;width: 50%;}#sk-1b92ad04-7e9d-44d5-9ebb-e4b178cd6304 div.sk-parallel-item:only-child::after {width: 0;}#sk-1b92ad04-7e9d-44d5-9ebb-e4b178cd6304 div.sk-dashed-wrapped {border: 1px dashed gray;margin: 0 0.4em 0.5em 0.4em;box-sizing: border-box;padding-bottom: 0.4em;background-color: white;position: relative;}#sk-1b92ad04-7e9d-44d5-9ebb-e4b178cd6304 div.sk-label label {font-family: monospace;font-weight: bold;background-color: white;display: inline-block;line-height: 1.2em;}#sk-1b92ad04-7e9d-44d5-9ebb-e4b178cd6304 div.sk-label-container {position: relative;z-index: 2;text-align: center;}#sk-1b92ad04-7e9d-44d5-9ebb-e4b178cd6304 div.sk-container {/* jupyter's `normalize.less` sets `[hidden] { display: none; }` but bootstrap.min.css set `[hidden] { display: none !important; }` so we also need the `!important` here to be able to override the default hidden behavior on the sphinx rendered scikit-learn.org. See: https://github.com/scikit-learn/scikit-learn/issues/21755 */display: inline-block !important;position: relative;}#sk-1b92ad04-7e9d-44d5-9ebb-e4b178cd6304 div.sk-text-repr-fallback {display: none;}</style><div id=\"sk-1b92ad04-7e9d-44d5-9ebb-e4b178cd6304\" class=\"sk-top-container\"><div class=\"sk-text-repr-fallback\"><pre>Pipeline(steps=[(&#x27;columntransformer&#x27;,\n",
       "                 ColumnTransformer(remainder=&#x27;passthrough&#x27;,\n",
       "                                   transformers=[(&#x27;pipeline-1&#x27;,\n",
       "                                                  Pipeline(steps=[(&#x27;simpleimputer&#x27;,\n",
       "                                                                   SimpleImputer(strategy=&#x27;median&#x27;)),\n",
       "                                                                  (&#x27;standardscaler&#x27;,\n",
       "                                                                   StandardScaler())]),\n",
       "                                                  Index([&#x27;User ID&#x27;, &#x27;Age&#x27;, &#x27;EstimatedSalary&#x27;], dtype=&#x27;object&#x27;)),\n",
       "                                                 (&#x27;pipeline-2&#x27;,\n",
       "                                                  Pipeline(steps=[(&#x27;simpleimputer&#x27;,\n",
       "                                                                   SimpleImputer(fill_value=&#x27;missing&#x27;,\n",
       "                                                                                 strategy=&#x27;constant&#x27;)),\n",
       "                                                                  (&#x27;onehotencoder&#x27;,\n",
       "                                                                   OneHotEncoder())]),\n",
       "                                                  Index([&#x27;Gender&#x27;], dtype=&#x27;object&#x27;))])),\n",
       "                (&#x27;svc&#x27;, SVC(random_state=0))])</pre><b>Please rerun this cell to show the HTML repr or trust the notebook.</b></div><div class=\"sk-container\" hidden><div class=\"sk-item sk-dashed-wrapped\"><div class=\"sk-label-container\"><div class=\"sk-label sk-toggleable\"><input class=\"sk-toggleable__control sk-hidden--visually\" id=\"481b3eac-ba50-40dc-b66a-5a6df23ae743\" type=\"checkbox\" ><label for=\"481b3eac-ba50-40dc-b66a-5a6df23ae743\" class=\"sk-toggleable__label sk-toggleable__label-arrow\">Pipeline</label><div class=\"sk-toggleable__content\"><pre>Pipeline(steps=[(&#x27;columntransformer&#x27;,\n",
       "                 ColumnTransformer(remainder=&#x27;passthrough&#x27;,\n",
       "                                   transformers=[(&#x27;pipeline-1&#x27;,\n",
       "                                                  Pipeline(steps=[(&#x27;simpleimputer&#x27;,\n",
       "                                                                   SimpleImputer(strategy=&#x27;median&#x27;)),\n",
       "                                                                  (&#x27;standardscaler&#x27;,\n",
       "                                                                   StandardScaler())]),\n",
       "                                                  Index([&#x27;User ID&#x27;, &#x27;Age&#x27;, &#x27;EstimatedSalary&#x27;], dtype=&#x27;object&#x27;)),\n",
       "                                                 (&#x27;pipeline-2&#x27;,\n",
       "                                                  Pipeline(steps=[(&#x27;simpleimputer&#x27;,\n",
       "                                                                   SimpleImputer(fill_value=&#x27;missing&#x27;,\n",
       "                                                                                 strategy=&#x27;constant&#x27;)),\n",
       "                                                                  (&#x27;onehotencoder&#x27;,\n",
       "                                                                   OneHotEncoder())]),\n",
       "                                                  Index([&#x27;Gender&#x27;], dtype=&#x27;object&#x27;))])),\n",
       "                (&#x27;svc&#x27;, SVC(random_state=0))])</pre></div></div></div><div class=\"sk-serial\"><div class=\"sk-item sk-dashed-wrapped\"><div class=\"sk-label-container\"><div class=\"sk-label sk-toggleable\"><input class=\"sk-toggleable__control sk-hidden--visually\" id=\"451bb600-0987-43c1-a730-24932bab22e7\" type=\"checkbox\" ><label for=\"451bb600-0987-43c1-a730-24932bab22e7\" class=\"sk-toggleable__label sk-toggleable__label-arrow\">columntransformer: ColumnTransformer</label><div class=\"sk-toggleable__content\"><pre>ColumnTransformer(remainder=&#x27;passthrough&#x27;,\n",
       "                  transformers=[(&#x27;pipeline-1&#x27;,\n",
       "                                 Pipeline(steps=[(&#x27;simpleimputer&#x27;,\n",
       "                                                  SimpleImputer(strategy=&#x27;median&#x27;)),\n",
       "                                                 (&#x27;standardscaler&#x27;,\n",
       "                                                  StandardScaler())]),\n",
       "                                 Index([&#x27;User ID&#x27;, &#x27;Age&#x27;, &#x27;EstimatedSalary&#x27;], dtype=&#x27;object&#x27;)),\n",
       "                                (&#x27;pipeline-2&#x27;,\n",
       "                                 Pipeline(steps=[(&#x27;simpleimputer&#x27;,\n",
       "                                                  SimpleImputer(fill_value=&#x27;missing&#x27;,\n",
       "                                                                strategy=&#x27;constant&#x27;)),\n",
       "                                                 (&#x27;onehotencoder&#x27;,\n",
       "                                                  OneHotEncoder())]),\n",
       "                                 Index([&#x27;Gender&#x27;], dtype=&#x27;object&#x27;))])</pre></div></div></div><div class=\"sk-parallel\"><div class=\"sk-parallel-item\"><div class=\"sk-item\"><div class=\"sk-label-container\"><div class=\"sk-label sk-toggleable\"><input class=\"sk-toggleable__control sk-hidden--visually\" id=\"f7d3ee51-256f-4193-b69b-a0bde227a948\" type=\"checkbox\" ><label for=\"f7d3ee51-256f-4193-b69b-a0bde227a948\" class=\"sk-toggleable__label sk-toggleable__label-arrow\">pipeline-1</label><div class=\"sk-toggleable__content\"><pre>Index([&#x27;User ID&#x27;, &#x27;Age&#x27;, &#x27;EstimatedSalary&#x27;], dtype=&#x27;object&#x27;)</pre></div></div></div><div class=\"sk-serial\"><div class=\"sk-item\"><div class=\"sk-serial\"><div class=\"sk-item\"><div class=\"sk-estimator sk-toggleable\"><input class=\"sk-toggleable__control sk-hidden--visually\" id=\"714bad55-629c-4745-a114-a3e1744898e6\" type=\"checkbox\" ><label for=\"714bad55-629c-4745-a114-a3e1744898e6\" class=\"sk-toggleable__label sk-toggleable__label-arrow\">SimpleImputer</label><div class=\"sk-toggleable__content\"><pre>SimpleImputer(strategy=&#x27;median&#x27;)</pre></div></div></div><div class=\"sk-item\"><div class=\"sk-estimator sk-toggleable\"><input class=\"sk-toggleable__control sk-hidden--visually\" id=\"d2ad48fb-9ba8-4a14-b462-048ab437070b\" type=\"checkbox\" ><label for=\"d2ad48fb-9ba8-4a14-b462-048ab437070b\" class=\"sk-toggleable__label sk-toggleable__label-arrow\">StandardScaler</label><div class=\"sk-toggleable__content\"><pre>StandardScaler()</pre></div></div></div></div></div></div></div></div><div class=\"sk-parallel-item\"><div class=\"sk-item\"><div class=\"sk-label-container\"><div class=\"sk-label sk-toggleable\"><input class=\"sk-toggleable__control sk-hidden--visually\" id=\"70523a5c-e669-4da7-a0f8-5b3d47ee6f51\" type=\"checkbox\" ><label for=\"70523a5c-e669-4da7-a0f8-5b3d47ee6f51\" class=\"sk-toggleable__label sk-toggleable__label-arrow\">pipeline-2</label><div class=\"sk-toggleable__content\"><pre>Index([&#x27;Gender&#x27;], dtype=&#x27;object&#x27;)</pre></div></div></div><div class=\"sk-serial\"><div class=\"sk-item\"><div class=\"sk-serial\"><div class=\"sk-item\"><div class=\"sk-estimator sk-toggleable\"><input class=\"sk-toggleable__control sk-hidden--visually\" id=\"aa4ed4a1-109a-4bf6-97e4-cfa01153cb7c\" type=\"checkbox\" ><label for=\"aa4ed4a1-109a-4bf6-97e4-cfa01153cb7c\" class=\"sk-toggleable__label sk-toggleable__label-arrow\">SimpleImputer</label><div class=\"sk-toggleable__content\"><pre>SimpleImputer(fill_value=&#x27;missing&#x27;, strategy=&#x27;constant&#x27;)</pre></div></div></div><div class=\"sk-item\"><div class=\"sk-estimator sk-toggleable\"><input class=\"sk-toggleable__control sk-hidden--visually\" id=\"f4d95549-2d6b-4bef-85ae-36fc8b6c61a3\" type=\"checkbox\" ><label for=\"f4d95549-2d6b-4bef-85ae-36fc8b6c61a3\" class=\"sk-toggleable__label sk-toggleable__label-arrow\">OneHotEncoder</label><div class=\"sk-toggleable__content\"><pre>OneHotEncoder()</pre></div></div></div></div></div></div></div></div><div class=\"sk-parallel-item\"><div class=\"sk-item\"><div class=\"sk-label-container\"><div class=\"sk-label sk-toggleable\"><input class=\"sk-toggleable__control sk-hidden--visually\" id=\"dcbc4b96-7d2f-46b4-acd5-55a6083137e4\" type=\"checkbox\" ><label for=\"dcbc4b96-7d2f-46b4-acd5-55a6083137e4\" class=\"sk-toggleable__label sk-toggleable__label-arrow\">remainder</label><div class=\"sk-toggleable__content\"><pre>[]</pre></div></div></div><div class=\"sk-serial\"><div class=\"sk-item\"><div class=\"sk-estimator sk-toggleable\"><input class=\"sk-toggleable__control sk-hidden--visually\" id=\"e6451a0e-5314-4331-b1c5-b142e80efd4b\" type=\"checkbox\" ><label for=\"e6451a0e-5314-4331-b1c5-b142e80efd4b\" class=\"sk-toggleable__label sk-toggleable__label-arrow\">passthrough</label><div class=\"sk-toggleable__content\"><pre>passthrough</pre></div></div></div></div></div></div></div></div><div class=\"sk-item\"><div class=\"sk-estimator sk-toggleable\"><input class=\"sk-toggleable__control sk-hidden--visually\" id=\"ec9f5254-c8be-448d-b29d-da3dfe8339e7\" type=\"checkbox\" ><label for=\"ec9f5254-c8be-448d-b29d-da3dfe8339e7\" class=\"sk-toggleable__label sk-toggleable__label-arrow\">SVC</label><div class=\"sk-toggleable__content\"><pre>SVC(random_state=0)</pre></div></div></div></div></div></div></div>"
      ],
      "text/plain": [
       "Pipeline(steps=[('columntransformer',\n",
       "                 ColumnTransformer(remainder='passthrough',\n",
       "                                   transformers=[('pipeline-1',\n",
       "                                                  Pipeline(steps=[('simpleimputer',\n",
       "                                                                   SimpleImputer(strategy='median')),\n",
       "                                                                  ('standardscaler',\n",
       "                                                                   StandardScaler())]),\n",
       "                                                  Index(['User ID', 'Age', 'EstimatedSalary'], dtype='object')),\n",
       "                                                 ('pipeline-2',\n",
       "                                                  Pipeline(steps=[('simpleimputer',\n",
       "                                                                   SimpleImputer(fill_value='missing',\n",
       "                                                                                 strategy='constant')),\n",
       "                                                                  ('onehotencoder',\n",
       "                                                                   OneHotEncoder())]),\n",
       "                                                  Index(['Gender'], dtype='object'))])),\n",
       "                ('svc', SVC(random_state=0))])"
      ]
     },
     "execution_count": 28,
     "metadata": {},
     "output_type": "execute_result"
    }
   ],
   "source": [
    "pipe.fit(X_train, y_train)"
   ]
  },
  {
   "cell_type": "code",
   "execution_count": 29,
   "id": "44b76a1e",
   "metadata": {},
   "outputs": [],
   "source": [
    "from sklearn.model_selection import cross_validate\n",
    "with_categorical_score = cross_validate(pipe, X_train, y_train, return_train_score = True)"
   ]
  },
  {
   "cell_type": "code",
   "execution_count": 30,
   "id": "679c8ea8",
   "metadata": {},
   "outputs": [
    {
     "data": {
      "text/html": [
       "<div>\n",
       "<style scoped>\n",
       "    .dataframe tbody tr th:only-of-type {\n",
       "        vertical-align: middle;\n",
       "    }\n",
       "\n",
       "    .dataframe tbody tr th {\n",
       "        vertical-align: top;\n",
       "    }\n",
       "\n",
       "    .dataframe thead th {\n",
       "        text-align: right;\n",
       "    }\n",
       "</style>\n",
       "<table border=\"1\" class=\"dataframe\">\n",
       "  <thead>\n",
       "    <tr style=\"text-align: right;\">\n",
       "      <th></th>\n",
       "      <th>fit_time</th>\n",
       "      <th>score_time</th>\n",
       "      <th>test_score</th>\n",
       "      <th>train_score</th>\n",
       "    </tr>\n",
       "  </thead>\n",
       "  <tbody>\n",
       "    <tr>\n",
       "      <th>0</th>\n",
       "      <td>0.015625</td>\n",
       "      <td>0.000000</td>\n",
       "      <td>0.875000</td>\n",
       "      <td>0.906250</td>\n",
       "    </tr>\n",
       "    <tr>\n",
       "      <th>1</th>\n",
       "      <td>0.000000</td>\n",
       "      <td>0.015621</td>\n",
       "      <td>0.890625</td>\n",
       "      <td>0.898438</td>\n",
       "    </tr>\n",
       "    <tr>\n",
       "      <th>2</th>\n",
       "      <td>0.015621</td>\n",
       "      <td>0.000000</td>\n",
       "      <td>0.843750</td>\n",
       "      <td>0.917969</td>\n",
       "    </tr>\n",
       "    <tr>\n",
       "      <th>3</th>\n",
       "      <td>0.015621</td>\n",
       "      <td>0.000000</td>\n",
       "      <td>0.906250</td>\n",
       "      <td>0.906250</td>\n",
       "    </tr>\n",
       "    <tr>\n",
       "      <th>4</th>\n",
       "      <td>0.015623</td>\n",
       "      <td>0.000000</td>\n",
       "      <td>0.953125</td>\n",
       "      <td>0.878906</td>\n",
       "    </tr>\n",
       "  </tbody>\n",
       "</table>\n",
       "</div>"
      ],
      "text/plain": [
       "   fit_time  score_time  test_score  train_score\n",
       "0  0.015625    0.000000    0.875000     0.906250\n",
       "1  0.000000    0.015621    0.890625     0.898438\n",
       "2  0.015621    0.000000    0.843750     0.917969\n",
       "3  0.015621    0.000000    0.906250     0.906250\n",
       "4  0.015623    0.000000    0.953125     0.878906"
      ]
     },
     "execution_count": 30,
     "metadata": {},
     "output_type": "execute_result"
    }
   ],
   "source": [
    "categorical_score = pd.DataFrame(with_categorical_score)\n",
    "categorical_score"
   ]
  },
  {
   "cell_type": "code",
   "execution_count": 31,
   "id": "fc6ab58a",
   "metadata": {},
   "outputs": [
    {
     "data": {
      "text/plain": [
       "fit_time       0.012498\n",
       "score_time     0.003124\n",
       "test_score     0.893750\n",
       "train_score    0.901563\n",
       "dtype: float64"
      ]
     },
     "execution_count": 31,
     "metadata": {},
     "output_type": "execute_result"
    }
   ],
   "source": [
    "categorical_score.mean()"
   ]
  },
  {
   "cell_type": "code",
   "execution_count": 32,
   "id": "3c818e38",
   "metadata": {},
   "outputs": [
    {
     "data": {
      "text/plain": [
       "array([0, 0, 0, 0, 0, 0, 0, 1, 0, 1, 0, 0, 0, 0, 0, 1, 0, 0, 1, 0, 0, 1,\n",
       "       0, 1, 0, 1, 0, 0, 0, 0, 0, 0, 1, 0, 0, 0, 0, 0, 0, 1, 0, 0, 0, 0,\n",
       "       1, 0, 0, 1, 0, 1, 1, 0, 0, 1, 1, 1, 0, 0, 1, 0, 0, 1, 0, 1, 0, 1,\n",
       "       0, 0, 0, 0, 1, 0, 0, 1, 0, 0, 0, 0, 1, 1], dtype=int64)"
      ]
     },
     "execution_count": 32,
     "metadata": {},
     "output_type": "execute_result"
    }
   ],
   "source": [
    "pipe.predict(X_test)"
   ]
  },
  {
   "cell_type": "code",
   "execution_count": 33,
   "id": "8f90725b",
   "metadata": {},
   "outputs": [
    {
     "data": {
      "text/plain": [
       "0.9"
      ]
     },
     "execution_count": 33,
     "metadata": {},
     "output_type": "execute_result"
    }
   ],
   "source": [
    "pipe.score(X_train, y_train)"
   ]
  },
  {
   "cell_type": "code",
   "execution_count": 34,
   "id": "52642066",
   "metadata": {},
   "outputs": [
    {
     "data": {
      "text/plain": [
       "0.95"
      ]
     },
     "execution_count": 34,
     "metadata": {},
     "output_type": "execute_result"
    }
   ],
   "source": [
    "pipe.score(X_test, y_test)"
   ]
  }
 ],
 "metadata": {
  "kernelspec": {
   "display_name": "project1",
   "language": "python",
   "name": "project1"
  },
  "language_info": {
   "codemirror_mode": {
    "name": "ipython",
    "version": 3
   },
   "file_extension": ".py",
   "mimetype": "text/x-python",
   "name": "python",
   "nbconvert_exporter": "python",
   "pygments_lexer": "ipython3",
   "version": "3.7.12"
  }
 },
 "nbformat": 4,
 "nbformat_minor": 5
}
