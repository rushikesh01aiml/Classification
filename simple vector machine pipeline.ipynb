{
 "cells": [
  {
   "cell_type": "code",
   "execution_count": 1,
   "id": "d621b58a",
   "metadata": {},
   "outputs": [],
   "source": [
    "import pandas as pd\n",
    "import numpy as np\n",
    "import matplotlib.pyplot as plt\n",
    "from sklearn.pipeline import make_pipeline, Pipeline\n",
    "from sklearn.compose import make_column_transformer\n",
    "from sklearn.preprocessing import StandardScaler\n",
    "from sklearn.preprocessing import OneHotEncoder\n",
    "from sklearn.impute import SimpleImputer\n",
    "from sklearn.svm import SVC\n",
    "from sklearn import set_config\n",
    "set_config(display = 'diagram')"
   ]
  },
  {
   "cell_type": "code",
   "execution_count": 2,
   "id": "b985da4c",
   "metadata": {},
   "outputs": [],
   "source": [
    "df = pd.read_csv('svm_data.csv')"
   ]
  },
  {
   "cell_type": "code",
   "execution_count": 3,
   "id": "60eb618b",
   "metadata": {},
   "outputs": [
    {
     "name": "stdout",
     "output_type": "stream",
     "text": [
      "<class 'pandas.core.frame.DataFrame'>\n",
      "RangeIndex: 100 entries, 0 to 99\n",
      "Data columns (total 3 columns):\n",
      " #   Column  Non-Null Count  Dtype  \n",
      "---  ------  --------------  -----  \n",
      " 0   x1      100 non-null    float64\n",
      " 1   x2      100 non-null    float64\n",
      " 2   y       100 non-null    int64  \n",
      "dtypes: float64(2), int64(1)\n",
      "memory usage: 2.5 KB\n"
     ]
    }
   ],
   "source": [
    "df.info()"
   ]
  },
  {
   "cell_type": "code",
   "execution_count": 4,
   "id": "c6c6546b",
   "metadata": {},
   "outputs": [
    {
     "data": {
      "text/html": [
       "<div>\n",
       "<style scoped>\n",
       "    .dataframe tbody tr th:only-of-type {\n",
       "        vertical-align: middle;\n",
       "    }\n",
       "\n",
       "    .dataframe tbody tr th {\n",
       "        vertical-align: top;\n",
       "    }\n",
       "\n",
       "    .dataframe thead th {\n",
       "        text-align: right;\n",
       "    }\n",
       "</style>\n",
       "<table border=\"1\" class=\"dataframe\">\n",
       "  <thead>\n",
       "    <tr style=\"text-align: right;\">\n",
       "      <th></th>\n",
       "      <th>x1</th>\n",
       "      <th>x2</th>\n",
       "      <th>y</th>\n",
       "    </tr>\n",
       "  </thead>\n",
       "  <tbody>\n",
       "    <tr>\n",
       "      <th>0</th>\n",
       "      <td>0.486861</td>\n",
       "      <td>0.163756</td>\n",
       "      <td>0</td>\n",
       "    </tr>\n",
       "    <tr>\n",
       "      <th>1</th>\n",
       "      <td>0.590718</td>\n",
       "      <td>0.429319</td>\n",
       "      <td>0</td>\n",
       "    </tr>\n",
       "    <tr>\n",
       "      <th>2</th>\n",
       "      <td>0.537981</td>\n",
       "      <td>0.082374</td>\n",
       "      <td>0</td>\n",
       "    </tr>\n",
       "    <tr>\n",
       "      <th>3</th>\n",
       "      <td>0.184411</td>\n",
       "      <td>0.717404</td>\n",
       "      <td>1</td>\n",
       "    </tr>\n",
       "    <tr>\n",
       "      <th>4</th>\n",
       "      <td>0.825697</td>\n",
       "      <td>0.414670</td>\n",
       "      <td>1</td>\n",
       "    </tr>\n",
       "  </tbody>\n",
       "</table>\n",
       "</div>"
      ],
      "text/plain": [
       "         x1        x2  y\n",
       "0  0.486861  0.163756  0\n",
       "1  0.590718  0.429319  0\n",
       "2  0.537981  0.082374  0\n",
       "3  0.184411  0.717404  1\n",
       "4  0.825697  0.414670  1"
      ]
     },
     "execution_count": 4,
     "metadata": {},
     "output_type": "execute_result"
    }
   ],
   "source": [
    "df.head()"
   ]
  },
  {
   "cell_type": "code",
   "execution_count": 5,
   "id": "3d850bc0",
   "metadata": {},
   "outputs": [],
   "source": [
    "X = df.drop(columns= ['y'])\n",
    "y = df['y']"
   ]
  },
  {
   "cell_type": "code",
   "execution_count": 6,
   "id": "6de14b37",
   "metadata": {},
   "outputs": [],
   "source": [
    "from sklearn.model_selection import train_test_split\n",
    "X_train, X_test, y_train, y_test = train_test_split(X, y, test_size = 0.2, random_state = 42 )"
   ]
  },
  {
   "cell_type": "code",
   "execution_count": 7,
   "id": "9f0ce68b",
   "metadata": {},
   "outputs": [],
   "source": [
    "numeric_feature = X_train.select_dtypes('number').columns"
   ]
  },
  {
   "cell_type": "code",
   "execution_count": 8,
   "id": "50688b01",
   "metadata": {},
   "outputs": [],
   "source": [
    "numeric_transformer = make_pipeline(SimpleImputer(strategy = 'median'), StandardScaler())"
   ]
  },
  {
   "cell_type": "code",
   "execution_count": 9,
   "id": "c390e5de",
   "metadata": {},
   "outputs": [],
   "source": [
    "col_transformer = make_column_transformer((numeric_transformer, numeric_feature), remainder = 'passthrough')"
   ]
  },
  {
   "cell_type": "code",
   "execution_count": 10,
   "id": "bd2811db",
   "metadata": {},
   "outputs": [
    {
     "data": {
      "text/html": [
       "<style>#sk-98f6fded-9a10-474b-aaaf-d495ffdc9150 {color: black;background-color: white;}#sk-98f6fded-9a10-474b-aaaf-d495ffdc9150 pre{padding: 0;}#sk-98f6fded-9a10-474b-aaaf-d495ffdc9150 div.sk-toggleable {background-color: white;}#sk-98f6fded-9a10-474b-aaaf-d495ffdc9150 label.sk-toggleable__label {cursor: pointer;display: block;width: 100%;margin-bottom: 0;padding: 0.3em;box-sizing: border-box;text-align: center;}#sk-98f6fded-9a10-474b-aaaf-d495ffdc9150 label.sk-toggleable__label-arrow:before {content: \"▸\";float: left;margin-right: 0.25em;color: #696969;}#sk-98f6fded-9a10-474b-aaaf-d495ffdc9150 label.sk-toggleable__label-arrow:hover:before {color: black;}#sk-98f6fded-9a10-474b-aaaf-d495ffdc9150 div.sk-estimator:hover label.sk-toggleable__label-arrow:before {color: black;}#sk-98f6fded-9a10-474b-aaaf-d495ffdc9150 div.sk-toggleable__content {max-height: 0;max-width: 0;overflow: hidden;text-align: left;background-color: #f0f8ff;}#sk-98f6fded-9a10-474b-aaaf-d495ffdc9150 div.sk-toggleable__content pre {margin: 0.2em;color: black;border-radius: 0.25em;background-color: #f0f8ff;}#sk-98f6fded-9a10-474b-aaaf-d495ffdc9150 input.sk-toggleable__control:checked~div.sk-toggleable__content {max-height: 200px;max-width: 100%;overflow: auto;}#sk-98f6fded-9a10-474b-aaaf-d495ffdc9150 input.sk-toggleable__control:checked~label.sk-toggleable__label-arrow:before {content: \"▾\";}#sk-98f6fded-9a10-474b-aaaf-d495ffdc9150 div.sk-estimator input.sk-toggleable__control:checked~label.sk-toggleable__label {background-color: #d4ebff;}#sk-98f6fded-9a10-474b-aaaf-d495ffdc9150 div.sk-label input.sk-toggleable__control:checked~label.sk-toggleable__label {background-color: #d4ebff;}#sk-98f6fded-9a10-474b-aaaf-d495ffdc9150 input.sk-hidden--visually {border: 0;clip: rect(1px 1px 1px 1px);clip: rect(1px, 1px, 1px, 1px);height: 1px;margin: -1px;overflow: hidden;padding: 0;position: absolute;width: 1px;}#sk-98f6fded-9a10-474b-aaaf-d495ffdc9150 div.sk-estimator {font-family: monospace;background-color: #f0f8ff;border: 1px dotted black;border-radius: 0.25em;box-sizing: border-box;margin-bottom: 0.5em;}#sk-98f6fded-9a10-474b-aaaf-d495ffdc9150 div.sk-estimator:hover {background-color: #d4ebff;}#sk-98f6fded-9a10-474b-aaaf-d495ffdc9150 div.sk-parallel-item::after {content: \"\";width: 100%;border-bottom: 1px solid gray;flex-grow: 1;}#sk-98f6fded-9a10-474b-aaaf-d495ffdc9150 div.sk-label:hover label.sk-toggleable__label {background-color: #d4ebff;}#sk-98f6fded-9a10-474b-aaaf-d495ffdc9150 div.sk-serial::before {content: \"\";position: absolute;border-left: 1px solid gray;box-sizing: border-box;top: 2em;bottom: 0;left: 50%;}#sk-98f6fded-9a10-474b-aaaf-d495ffdc9150 div.sk-serial {display: flex;flex-direction: column;align-items: center;background-color: white;padding-right: 0.2em;padding-left: 0.2em;}#sk-98f6fded-9a10-474b-aaaf-d495ffdc9150 div.sk-item {z-index: 1;}#sk-98f6fded-9a10-474b-aaaf-d495ffdc9150 div.sk-parallel {display: flex;align-items: stretch;justify-content: center;background-color: white;}#sk-98f6fded-9a10-474b-aaaf-d495ffdc9150 div.sk-parallel::before {content: \"\";position: absolute;border-left: 1px solid gray;box-sizing: border-box;top: 2em;bottom: 0;left: 50%;}#sk-98f6fded-9a10-474b-aaaf-d495ffdc9150 div.sk-parallel-item {display: flex;flex-direction: column;position: relative;background-color: white;}#sk-98f6fded-9a10-474b-aaaf-d495ffdc9150 div.sk-parallel-item:first-child::after {align-self: flex-end;width: 50%;}#sk-98f6fded-9a10-474b-aaaf-d495ffdc9150 div.sk-parallel-item:last-child::after {align-self: flex-start;width: 50%;}#sk-98f6fded-9a10-474b-aaaf-d495ffdc9150 div.sk-parallel-item:only-child::after {width: 0;}#sk-98f6fded-9a10-474b-aaaf-d495ffdc9150 div.sk-dashed-wrapped {border: 1px dashed gray;margin: 0 0.4em 0.5em 0.4em;box-sizing: border-box;padding-bottom: 0.4em;background-color: white;position: relative;}#sk-98f6fded-9a10-474b-aaaf-d495ffdc9150 div.sk-label label {font-family: monospace;font-weight: bold;background-color: white;display: inline-block;line-height: 1.2em;}#sk-98f6fded-9a10-474b-aaaf-d495ffdc9150 div.sk-label-container {position: relative;z-index: 2;text-align: center;}#sk-98f6fded-9a10-474b-aaaf-d495ffdc9150 div.sk-container {/* jupyter's `normalize.less` sets `[hidden] { display: none; }` but bootstrap.min.css set `[hidden] { display: none !important; }` so we also need the `!important` here to be able to override the default hidden behavior on the sphinx rendered scikit-learn.org. See: https://github.com/scikit-learn/scikit-learn/issues/21755 */display: inline-block !important;position: relative;}#sk-98f6fded-9a10-474b-aaaf-d495ffdc9150 div.sk-text-repr-fallback {display: none;}</style><div id=\"sk-98f6fded-9a10-474b-aaaf-d495ffdc9150\" class=\"sk-top-container\"><div class=\"sk-text-repr-fallback\"><pre>ColumnTransformer(remainder=&#x27;passthrough&#x27;,\n",
       "                  transformers=[(&#x27;pipeline&#x27;,\n",
       "                                 Pipeline(steps=[(&#x27;simpleimputer&#x27;,\n",
       "                                                  SimpleImputer(strategy=&#x27;median&#x27;)),\n",
       "                                                 (&#x27;standardscaler&#x27;,\n",
       "                                                  StandardScaler())]),\n",
       "                                 Index([&#x27;x1&#x27;, &#x27;x2&#x27;], dtype=&#x27;object&#x27;))])</pre><b>Please rerun this cell to show the HTML repr or trust the notebook.</b></div><div class=\"sk-container\" hidden><div class=\"sk-item sk-dashed-wrapped\"><div class=\"sk-label-container\"><div class=\"sk-label sk-toggleable\"><input class=\"sk-toggleable__control sk-hidden--visually\" id=\"d6f94260-ca63-4bfd-89b7-914d477abec2\" type=\"checkbox\" ><label for=\"d6f94260-ca63-4bfd-89b7-914d477abec2\" class=\"sk-toggleable__label sk-toggleable__label-arrow\">ColumnTransformer</label><div class=\"sk-toggleable__content\"><pre>ColumnTransformer(remainder=&#x27;passthrough&#x27;,\n",
       "                  transformers=[(&#x27;pipeline&#x27;,\n",
       "                                 Pipeline(steps=[(&#x27;simpleimputer&#x27;,\n",
       "                                                  SimpleImputer(strategy=&#x27;median&#x27;)),\n",
       "                                                 (&#x27;standardscaler&#x27;,\n",
       "                                                  StandardScaler())]),\n",
       "                                 Index([&#x27;x1&#x27;, &#x27;x2&#x27;], dtype=&#x27;object&#x27;))])</pre></div></div></div><div class=\"sk-parallel\"><div class=\"sk-parallel-item\"><div class=\"sk-item\"><div class=\"sk-label-container\"><div class=\"sk-label sk-toggleable\"><input class=\"sk-toggleable__control sk-hidden--visually\" id=\"446b7189-0989-402a-8521-57df6e9a2df6\" type=\"checkbox\" ><label for=\"446b7189-0989-402a-8521-57df6e9a2df6\" class=\"sk-toggleable__label sk-toggleable__label-arrow\">pipeline</label><div class=\"sk-toggleable__content\"><pre>Index([&#x27;x1&#x27;, &#x27;x2&#x27;], dtype=&#x27;object&#x27;)</pre></div></div></div><div class=\"sk-serial\"><div class=\"sk-item\"><div class=\"sk-serial\"><div class=\"sk-item\"><div class=\"sk-estimator sk-toggleable\"><input class=\"sk-toggleable__control sk-hidden--visually\" id=\"1fd09a5e-eee7-4dbb-8aa7-1d5386828915\" type=\"checkbox\" ><label for=\"1fd09a5e-eee7-4dbb-8aa7-1d5386828915\" class=\"sk-toggleable__label sk-toggleable__label-arrow\">SimpleImputer</label><div class=\"sk-toggleable__content\"><pre>SimpleImputer(strategy=&#x27;median&#x27;)</pre></div></div></div><div class=\"sk-item\"><div class=\"sk-estimator sk-toggleable\"><input class=\"sk-toggleable__control sk-hidden--visually\" id=\"1f0d9739-6654-404e-860a-cbe171cd1a76\" type=\"checkbox\" ><label for=\"1f0d9739-6654-404e-860a-cbe171cd1a76\" class=\"sk-toggleable__label sk-toggleable__label-arrow\">StandardScaler</label><div class=\"sk-toggleable__content\"><pre>StandardScaler()</pre></div></div></div></div></div></div></div></div><div class=\"sk-parallel-item\"><div class=\"sk-item\"><div class=\"sk-label-container\"><div class=\"sk-label sk-toggleable\"><input class=\"sk-toggleable__control sk-hidden--visually\" id=\"d5de29c5-6f02-4e58-acfc-36a4f6d6a96d\" type=\"checkbox\" ><label for=\"d5de29c5-6f02-4e58-acfc-36a4f6d6a96d\" class=\"sk-toggleable__label sk-toggleable__label-arrow\">remainder</label><div class=\"sk-toggleable__content\"><pre>[]</pre></div></div></div><div class=\"sk-serial\"><div class=\"sk-item\"><div class=\"sk-estimator sk-toggleable\"><input class=\"sk-toggleable__control sk-hidden--visually\" id=\"9edd3590-ffd4-4eaf-ab73-15abe67f6500\" type=\"checkbox\" ><label for=\"9edd3590-ffd4-4eaf-ab73-15abe67f6500\" class=\"sk-toggleable__label sk-toggleable__label-arrow\">passthrough</label><div class=\"sk-toggleable__content\"><pre>passthrough</pre></div></div></div></div></div></div></div></div></div></div>"
      ],
      "text/plain": [
       "ColumnTransformer(remainder='passthrough',\n",
       "                  transformers=[('pipeline',\n",
       "                                 Pipeline(steps=[('simpleimputer',\n",
       "                                                  SimpleImputer(strategy='median')),\n",
       "                                                 ('standardscaler',\n",
       "                                                  StandardScaler())]),\n",
       "                                 Index(['x1', 'x2'], dtype='object'))])"
      ]
     },
     "execution_count": 10,
     "metadata": {},
     "output_type": "execute_result"
    }
   ],
   "source": [
    "col_transformer.fit(X_train)"
   ]
  },
  {
   "cell_type": "code",
   "execution_count": 11,
   "id": "bef08aca",
   "metadata": {},
   "outputs": [],
   "source": [
    "pipe = make_pipeline(col_transformer, SVC(kernel = 'linear', random_state = 0))"
   ]
  },
  {
   "cell_type": "code",
   "execution_count": 12,
   "id": "320b9a2f",
   "metadata": {},
   "outputs": [
    {
     "data": {
      "text/html": [
       "<style>#sk-5140398a-37bc-447e-96c9-ba9636a7ea6b {color: black;background-color: white;}#sk-5140398a-37bc-447e-96c9-ba9636a7ea6b pre{padding: 0;}#sk-5140398a-37bc-447e-96c9-ba9636a7ea6b div.sk-toggleable {background-color: white;}#sk-5140398a-37bc-447e-96c9-ba9636a7ea6b label.sk-toggleable__label {cursor: pointer;display: block;width: 100%;margin-bottom: 0;padding: 0.3em;box-sizing: border-box;text-align: center;}#sk-5140398a-37bc-447e-96c9-ba9636a7ea6b label.sk-toggleable__label-arrow:before {content: \"▸\";float: left;margin-right: 0.25em;color: #696969;}#sk-5140398a-37bc-447e-96c9-ba9636a7ea6b label.sk-toggleable__label-arrow:hover:before {color: black;}#sk-5140398a-37bc-447e-96c9-ba9636a7ea6b div.sk-estimator:hover label.sk-toggleable__label-arrow:before {color: black;}#sk-5140398a-37bc-447e-96c9-ba9636a7ea6b div.sk-toggleable__content {max-height: 0;max-width: 0;overflow: hidden;text-align: left;background-color: #f0f8ff;}#sk-5140398a-37bc-447e-96c9-ba9636a7ea6b div.sk-toggleable__content pre {margin: 0.2em;color: black;border-radius: 0.25em;background-color: #f0f8ff;}#sk-5140398a-37bc-447e-96c9-ba9636a7ea6b input.sk-toggleable__control:checked~div.sk-toggleable__content {max-height: 200px;max-width: 100%;overflow: auto;}#sk-5140398a-37bc-447e-96c9-ba9636a7ea6b input.sk-toggleable__control:checked~label.sk-toggleable__label-arrow:before {content: \"▾\";}#sk-5140398a-37bc-447e-96c9-ba9636a7ea6b div.sk-estimator input.sk-toggleable__control:checked~label.sk-toggleable__label {background-color: #d4ebff;}#sk-5140398a-37bc-447e-96c9-ba9636a7ea6b div.sk-label input.sk-toggleable__control:checked~label.sk-toggleable__label {background-color: #d4ebff;}#sk-5140398a-37bc-447e-96c9-ba9636a7ea6b input.sk-hidden--visually {border: 0;clip: rect(1px 1px 1px 1px);clip: rect(1px, 1px, 1px, 1px);height: 1px;margin: -1px;overflow: hidden;padding: 0;position: absolute;width: 1px;}#sk-5140398a-37bc-447e-96c9-ba9636a7ea6b div.sk-estimator {font-family: monospace;background-color: #f0f8ff;border: 1px dotted black;border-radius: 0.25em;box-sizing: border-box;margin-bottom: 0.5em;}#sk-5140398a-37bc-447e-96c9-ba9636a7ea6b div.sk-estimator:hover {background-color: #d4ebff;}#sk-5140398a-37bc-447e-96c9-ba9636a7ea6b div.sk-parallel-item::after {content: \"\";width: 100%;border-bottom: 1px solid gray;flex-grow: 1;}#sk-5140398a-37bc-447e-96c9-ba9636a7ea6b div.sk-label:hover label.sk-toggleable__label {background-color: #d4ebff;}#sk-5140398a-37bc-447e-96c9-ba9636a7ea6b div.sk-serial::before {content: \"\";position: absolute;border-left: 1px solid gray;box-sizing: border-box;top: 2em;bottom: 0;left: 50%;}#sk-5140398a-37bc-447e-96c9-ba9636a7ea6b div.sk-serial {display: flex;flex-direction: column;align-items: center;background-color: white;padding-right: 0.2em;padding-left: 0.2em;}#sk-5140398a-37bc-447e-96c9-ba9636a7ea6b div.sk-item {z-index: 1;}#sk-5140398a-37bc-447e-96c9-ba9636a7ea6b div.sk-parallel {display: flex;align-items: stretch;justify-content: center;background-color: white;}#sk-5140398a-37bc-447e-96c9-ba9636a7ea6b div.sk-parallel::before {content: \"\";position: absolute;border-left: 1px solid gray;box-sizing: border-box;top: 2em;bottom: 0;left: 50%;}#sk-5140398a-37bc-447e-96c9-ba9636a7ea6b div.sk-parallel-item {display: flex;flex-direction: column;position: relative;background-color: white;}#sk-5140398a-37bc-447e-96c9-ba9636a7ea6b div.sk-parallel-item:first-child::after {align-self: flex-end;width: 50%;}#sk-5140398a-37bc-447e-96c9-ba9636a7ea6b div.sk-parallel-item:last-child::after {align-self: flex-start;width: 50%;}#sk-5140398a-37bc-447e-96c9-ba9636a7ea6b div.sk-parallel-item:only-child::after {width: 0;}#sk-5140398a-37bc-447e-96c9-ba9636a7ea6b div.sk-dashed-wrapped {border: 1px dashed gray;margin: 0 0.4em 0.5em 0.4em;box-sizing: border-box;padding-bottom: 0.4em;background-color: white;position: relative;}#sk-5140398a-37bc-447e-96c9-ba9636a7ea6b div.sk-label label {font-family: monospace;font-weight: bold;background-color: white;display: inline-block;line-height: 1.2em;}#sk-5140398a-37bc-447e-96c9-ba9636a7ea6b div.sk-label-container {position: relative;z-index: 2;text-align: center;}#sk-5140398a-37bc-447e-96c9-ba9636a7ea6b div.sk-container {/* jupyter's `normalize.less` sets `[hidden] { display: none; }` but bootstrap.min.css set `[hidden] { display: none !important; }` so we also need the `!important` here to be able to override the default hidden behavior on the sphinx rendered scikit-learn.org. See: https://github.com/scikit-learn/scikit-learn/issues/21755 */display: inline-block !important;position: relative;}#sk-5140398a-37bc-447e-96c9-ba9636a7ea6b div.sk-text-repr-fallback {display: none;}</style><div id=\"sk-5140398a-37bc-447e-96c9-ba9636a7ea6b\" class=\"sk-top-container\"><div class=\"sk-text-repr-fallback\"><pre>Pipeline(steps=[(&#x27;columntransformer&#x27;,\n",
       "                 ColumnTransformer(remainder=&#x27;passthrough&#x27;,\n",
       "                                   transformers=[(&#x27;pipeline&#x27;,\n",
       "                                                  Pipeline(steps=[(&#x27;simpleimputer&#x27;,\n",
       "                                                                   SimpleImputer(strategy=&#x27;median&#x27;)),\n",
       "                                                                  (&#x27;standardscaler&#x27;,\n",
       "                                                                   StandardScaler())]),\n",
       "                                                  Index([&#x27;x1&#x27;, &#x27;x2&#x27;], dtype=&#x27;object&#x27;))])),\n",
       "                (&#x27;svc&#x27;, SVC(kernel=&#x27;linear&#x27;, random_state=0))])</pre><b>Please rerun this cell to show the HTML repr or trust the notebook.</b></div><div class=\"sk-container\" hidden><div class=\"sk-item sk-dashed-wrapped\"><div class=\"sk-label-container\"><div class=\"sk-label sk-toggleable\"><input class=\"sk-toggleable__control sk-hidden--visually\" id=\"e59d1973-85e6-46db-9b11-723200a4ef33\" type=\"checkbox\" ><label for=\"e59d1973-85e6-46db-9b11-723200a4ef33\" class=\"sk-toggleable__label sk-toggleable__label-arrow\">Pipeline</label><div class=\"sk-toggleable__content\"><pre>Pipeline(steps=[(&#x27;columntransformer&#x27;,\n",
       "                 ColumnTransformer(remainder=&#x27;passthrough&#x27;,\n",
       "                                   transformers=[(&#x27;pipeline&#x27;,\n",
       "                                                  Pipeline(steps=[(&#x27;simpleimputer&#x27;,\n",
       "                                                                   SimpleImputer(strategy=&#x27;median&#x27;)),\n",
       "                                                                  (&#x27;standardscaler&#x27;,\n",
       "                                                                   StandardScaler())]),\n",
       "                                                  Index([&#x27;x1&#x27;, &#x27;x2&#x27;], dtype=&#x27;object&#x27;))])),\n",
       "                (&#x27;svc&#x27;, SVC(kernel=&#x27;linear&#x27;, random_state=0))])</pre></div></div></div><div class=\"sk-serial\"><div class=\"sk-item sk-dashed-wrapped\"><div class=\"sk-label-container\"><div class=\"sk-label sk-toggleable\"><input class=\"sk-toggleable__control sk-hidden--visually\" id=\"0bafc6e4-7b33-43e1-b926-6b17e0fac816\" type=\"checkbox\" ><label for=\"0bafc6e4-7b33-43e1-b926-6b17e0fac816\" class=\"sk-toggleable__label sk-toggleable__label-arrow\">columntransformer: ColumnTransformer</label><div class=\"sk-toggleable__content\"><pre>ColumnTransformer(remainder=&#x27;passthrough&#x27;,\n",
       "                  transformers=[(&#x27;pipeline&#x27;,\n",
       "                                 Pipeline(steps=[(&#x27;simpleimputer&#x27;,\n",
       "                                                  SimpleImputer(strategy=&#x27;median&#x27;)),\n",
       "                                                 (&#x27;standardscaler&#x27;,\n",
       "                                                  StandardScaler())]),\n",
       "                                 Index([&#x27;x1&#x27;, &#x27;x2&#x27;], dtype=&#x27;object&#x27;))])</pre></div></div></div><div class=\"sk-parallel\"><div class=\"sk-parallel-item\"><div class=\"sk-item\"><div class=\"sk-label-container\"><div class=\"sk-label sk-toggleable\"><input class=\"sk-toggleable__control sk-hidden--visually\" id=\"5352a027-d419-4ca0-826b-a85b711a8e9f\" type=\"checkbox\" ><label for=\"5352a027-d419-4ca0-826b-a85b711a8e9f\" class=\"sk-toggleable__label sk-toggleable__label-arrow\">pipeline</label><div class=\"sk-toggleable__content\"><pre>Index([&#x27;x1&#x27;, &#x27;x2&#x27;], dtype=&#x27;object&#x27;)</pre></div></div></div><div class=\"sk-serial\"><div class=\"sk-item\"><div class=\"sk-serial\"><div class=\"sk-item\"><div class=\"sk-estimator sk-toggleable\"><input class=\"sk-toggleable__control sk-hidden--visually\" id=\"a97ac933-1178-4238-a615-19fe02f316c3\" type=\"checkbox\" ><label for=\"a97ac933-1178-4238-a615-19fe02f316c3\" class=\"sk-toggleable__label sk-toggleable__label-arrow\">SimpleImputer</label><div class=\"sk-toggleable__content\"><pre>SimpleImputer(strategy=&#x27;median&#x27;)</pre></div></div></div><div class=\"sk-item\"><div class=\"sk-estimator sk-toggleable\"><input class=\"sk-toggleable__control sk-hidden--visually\" id=\"8805ed79-40f3-4c66-a9ef-13e6d407c0b1\" type=\"checkbox\" ><label for=\"8805ed79-40f3-4c66-a9ef-13e6d407c0b1\" class=\"sk-toggleable__label sk-toggleable__label-arrow\">StandardScaler</label><div class=\"sk-toggleable__content\"><pre>StandardScaler()</pre></div></div></div></div></div></div></div></div><div class=\"sk-parallel-item\"><div class=\"sk-item\"><div class=\"sk-label-container\"><div class=\"sk-label sk-toggleable\"><input class=\"sk-toggleable__control sk-hidden--visually\" id=\"5c891748-304a-47a7-9ceb-2f71718d77f3\" type=\"checkbox\" ><label for=\"5c891748-304a-47a7-9ceb-2f71718d77f3\" class=\"sk-toggleable__label sk-toggleable__label-arrow\">remainder</label><div class=\"sk-toggleable__content\"><pre>[]</pre></div></div></div><div class=\"sk-serial\"><div class=\"sk-item\"><div class=\"sk-estimator sk-toggleable\"><input class=\"sk-toggleable__control sk-hidden--visually\" id=\"c3f9a8f6-de0d-4f57-b08f-1f9e83422749\" type=\"checkbox\" ><label for=\"c3f9a8f6-de0d-4f57-b08f-1f9e83422749\" class=\"sk-toggleable__label sk-toggleable__label-arrow\">passthrough</label><div class=\"sk-toggleable__content\"><pre>passthrough</pre></div></div></div></div></div></div></div></div><div class=\"sk-item\"><div class=\"sk-estimator sk-toggleable\"><input class=\"sk-toggleable__control sk-hidden--visually\" id=\"2cc16620-a25f-4d18-9ff1-780154452d81\" type=\"checkbox\" ><label for=\"2cc16620-a25f-4d18-9ff1-780154452d81\" class=\"sk-toggleable__label sk-toggleable__label-arrow\">SVC</label><div class=\"sk-toggleable__content\"><pre>SVC(kernel=&#x27;linear&#x27;, random_state=0)</pre></div></div></div></div></div></div></div>"
      ],
      "text/plain": [
       "Pipeline(steps=[('columntransformer',\n",
       "                 ColumnTransformer(remainder='passthrough',\n",
       "                                   transformers=[('pipeline',\n",
       "                                                  Pipeline(steps=[('simpleimputer',\n",
       "                                                                   SimpleImputer(strategy='median')),\n",
       "                                                                  ('standardscaler',\n",
       "                                                                   StandardScaler())]),\n",
       "                                                  Index(['x1', 'x2'], dtype='object'))])),\n",
       "                ('svc', SVC(kernel='linear', random_state=0))])"
      ]
     },
     "execution_count": 12,
     "metadata": {},
     "output_type": "execute_result"
    }
   ],
   "source": [
    "pipe.fit(X_train, y_train)"
   ]
  },
  {
   "cell_type": "code",
   "execution_count": 13,
   "id": "5405523f",
   "metadata": {},
   "outputs": [],
   "source": [
    "from sklearn.model_selection import cross_validate\n",
    "with_categorical_score = cross_validate(pipe, X_train, y_train, return_train_score = True)"
   ]
  },
  {
   "cell_type": "code",
   "execution_count": 14,
   "id": "5135980f",
   "metadata": {},
   "outputs": [
    {
     "data": {
      "text/html": [
       "<div>\n",
       "<style scoped>\n",
       "    .dataframe tbody tr th:only-of-type {\n",
       "        vertical-align: middle;\n",
       "    }\n",
       "\n",
       "    .dataframe tbody tr th {\n",
       "        vertical-align: top;\n",
       "    }\n",
       "\n",
       "    .dataframe thead th {\n",
       "        text-align: right;\n",
       "    }\n",
       "</style>\n",
       "<table border=\"1\" class=\"dataframe\">\n",
       "  <thead>\n",
       "    <tr style=\"text-align: right;\">\n",
       "      <th></th>\n",
       "      <th>fit_time</th>\n",
       "      <th>score_time</th>\n",
       "      <th>test_score</th>\n",
       "      <th>train_score</th>\n",
       "    </tr>\n",
       "  </thead>\n",
       "  <tbody>\n",
       "    <tr>\n",
       "      <th>0</th>\n",
       "      <td>0.011037</td>\n",
       "      <td>0.005722</td>\n",
       "      <td>0.6250</td>\n",
       "      <td>0.609375</td>\n",
       "    </tr>\n",
       "    <tr>\n",
       "      <th>1</th>\n",
       "      <td>0.013017</td>\n",
       "      <td>0.008219</td>\n",
       "      <td>0.5625</td>\n",
       "      <td>0.578125</td>\n",
       "    </tr>\n",
       "    <tr>\n",
       "      <th>2</th>\n",
       "      <td>0.012805</td>\n",
       "      <td>0.011157</td>\n",
       "      <td>0.5625</td>\n",
       "      <td>0.578125</td>\n",
       "    </tr>\n",
       "    <tr>\n",
       "      <th>3</th>\n",
       "      <td>0.010504</td>\n",
       "      <td>0.004594</td>\n",
       "      <td>0.4375</td>\n",
       "      <td>0.656250</td>\n",
       "    </tr>\n",
       "    <tr>\n",
       "      <th>4</th>\n",
       "      <td>0.007456</td>\n",
       "      <td>0.003520</td>\n",
       "      <td>0.5625</td>\n",
       "      <td>0.578125</td>\n",
       "    </tr>\n",
       "  </tbody>\n",
       "</table>\n",
       "</div>"
      ],
      "text/plain": [
       "   fit_time  score_time  test_score  train_score\n",
       "0  0.011037    0.005722      0.6250     0.609375\n",
       "1  0.013017    0.008219      0.5625     0.578125\n",
       "2  0.012805    0.011157      0.5625     0.578125\n",
       "3  0.010504    0.004594      0.4375     0.656250\n",
       "4  0.007456    0.003520      0.5625     0.578125"
      ]
     },
     "execution_count": 14,
     "metadata": {},
     "output_type": "execute_result"
    }
   ],
   "source": [
    "categorical_score = pd.DataFrame(with_categorical_score)\n",
    "categorical_score"
   ]
  },
  {
   "cell_type": "code",
   "execution_count": 15,
   "id": "bacf6090",
   "metadata": {},
   "outputs": [
    {
     "data": {
      "text/plain": [
       "array([0, 0, 0, 0, 0, 0, 0, 0, 0, 0, 0, 0, 0, 0, 0, 0, 0, 0, 0, 0],\n",
       "      dtype=int64)"
      ]
     },
     "execution_count": 15,
     "metadata": {},
     "output_type": "execute_result"
    }
   ],
   "source": [
    "pipe.predict(X_test)"
   ]
  },
  {
   "cell_type": "code",
   "execution_count": 16,
   "id": "5347f875",
   "metadata": {},
   "outputs": [
    {
     "data": {
      "text/plain": [
       "0.575"
      ]
     },
     "execution_count": 16,
     "metadata": {},
     "output_type": "execute_result"
    }
   ],
   "source": [
    "pipe.score(X_train, y_train)"
   ]
  },
  {
   "cell_type": "code",
   "execution_count": 17,
   "id": "140aa66f",
   "metadata": {},
   "outputs": [
    {
     "data": {
      "text/plain": [
       "0.45"
      ]
     },
     "execution_count": 17,
     "metadata": {},
     "output_type": "execute_result"
    }
   ],
   "source": [
    "pipe.score(X_test, y_test)"
   ]
  }
 ],
 "metadata": {
  "kernelspec": {
   "display_name": "project1",
   "language": "python",
   "name": "project1"
  },
  "language_info": {
   "codemirror_mode": {
    "name": "ipython",
    "version": 3
   },
   "file_extension": ".py",
   "mimetype": "text/x-python",
   "name": "python",
   "nbconvert_exporter": "python",
   "pygments_lexer": "ipython3",
   "version": "3.7.12"
  }
 },
 "nbformat": 4,
 "nbformat_minor": 5
}
